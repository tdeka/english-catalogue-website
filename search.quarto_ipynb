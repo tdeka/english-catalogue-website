{
  "cells": [
    {
      "cell_type": "markdown",
      "metadata": {},
      "source": [
        "---\n",
        "title: \"Catalogue Search\"\n",
        "format: html\n",
        "---\n"
      ],
      "id": "f58e5cc7"
    },
    {
      "cell_type": "code",
      "metadata": {},
      "source": [
        "import json\n",
        "import glob\n",
        "\n",
        "all_data = []\n",
        "\n",
        "for file in glob.glob(\"data/*.json\"):\n",
        "    with open(file, \"r\") as f:\n",
        "        data = json.load(f)\n",
        "        all_data.extend(data)\n",
        "\n",
        "with open(\"data/all_years.json\", \"w\") as f:\n",
        "    json.dump(all_data, f)\n",
        "\n",
        "print"
      ],
      "id": "ee648845",
      "execution_count": null,
      "outputs": []
    },
    {
      "cell_type": "markdown",
      "metadata": {},
      "source": [
        "## Search Our Catalogue\n",
        "\n",
        "<input type=\"text\" id=\"searchInput\" placeholder=\"Search books, authors, publishers...\">\n",
        "\n",
        "<div id=\"searchResults\"></div>\n",
        "\n",
        "<script src=\"https://cdn.jsdelivr.net/npm/fuse.js@6.6.2\"></script>\n",
        "<script>\n",
        "  // Load the combined JSON once\n",
        "  fetch(\"data/all_years.json\")\n",
        "    .then(response => response.json())\n",
        "    .then(data => {\n",
        "      // Setup Fuse\n",
        "      const options = {\n",
        "        keys: [\"title\", \"author_name\", \"publisher\"],\n",
        "        threshold: 0.4,  // Adjust for fuzziness\n",
        "      };\n",
        "      const fuse = new Fuse(data, options);\n",
        "\n",
        "      const input = document.getElementById(\"searchInput\");\n",
        "      const resultsDiv = document.getElementById(\"searchResults\");\n",
        "\n",
        "      input.addEventListener(\"input\", function() {\n",
        "        const query = input.value.trim();\n",
        "        if (!query) {\n",
        "          resultsDiv.innerHTML = \"\";\n",
        "          return;\n",
        "        }\n",
        "        const results = fuse.search(query);\n",
        "        if (results.length === 0) {\n",
        "          resultsDiv.innerHTML = \"<p>No results found.</p>\";\n",
        "          return;\n",
        "        }\n",
        "\n",
        "        // Build HTML for results\n",
        "        const html = results.slice(0, 20).map(r => {\n",
        "          const item = r.item;\n",
        "          return `<div>\n",
        "            <strong>${item.title}</strong> by ${item.author_name} (${item.publisher})\n",
        "          </div>`;\n",
        "        }).join(\"\");\n",
        "\n",
        "        resultsDiv.innerHTML = html;\n",
        "      });\n",
        "    });\n",
        "</script>"
      ],
      "id": "783c4bb7"
    }
  ],
  "metadata": {
    "kernelspec": {
      "name": "python3",
      "language": "python",
      "display_name": "Python 3 (ipykernel)",
      "path": "/Users/tanishadeka/Downloads/quarto_website_test/.venv/share/jupyter/kernels/python3"
    }
  },
  "nbformat": 4,
  "nbformat_minor": 5
}