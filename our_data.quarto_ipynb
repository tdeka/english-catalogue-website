{
  "cells": [
    {
      "cell_type": "markdown",
      "metadata": {},
      "source": [
        "---\n",
        "title: \"Our Data\"\n",
        "format: html\n",
        "page-layout: full\n",
        "toc: false\n",
        "---\n",
        "\n",
        "<div style=\"margin-top: 40px;\"></div>\n",
        "\n",
        "Learn more about the data we used for this project!\n",
        "\n",
        "<div style=\"margin-top: 40px;\"></div>\n",
        "\n",
        "## Raw Data\n",
        "\n",
        "Click on the different years to see a preview and download link for the CSV of the raw data.\n",
        "\n",
        "<details>\n",
        "<summary>1912</summary>\n",
        "\n",
        "<p style=\"text-align: center;\">\n",
        "  <img src=\"1912_english_catalogue_cover.jpeg\" width=\"500px\">\n",
        "</p>\n",
        "\n",
        "<h3>Data Table</h3>"
      ],
      "id": "1646282d"
    },
    {
      "cell_type": "code",
      "metadata": {},
      "source": [
        "#| echo: false\n",
        "import pandas as pd\n",
        "df = pd.read_csv(\"df_1912.csv\")\n",
        "df.head(15).to_html(classes=\"my-table\")"
      ],
      "id": "abfa0854",
      "execution_count": null,
      "outputs": []
    },
    {
      "cell_type": "markdown",
      "metadata": {},
      "source": [
        "<a href=\"df_1912.csv\" download>Download full CSV</a>\n",
        "\n",
        "</details> \n",
        "\n",
        "\n",
        "<details>\n",
        "<summary>1913</summary>\n",
        "\n",
        "<p style=\"text-align: center;\">\n",
        "  <img src=\"1913_english_catalogue_cover.jpeg\" width=\"500px\">\n",
        "</p>\n",
        "\n",
        "<h3>Data Table</h3>"
      ],
      "id": "a7da2263"
    },
    {
      "cell_type": "code",
      "metadata": {},
      "source": [
        "#| echo: false\n",
        "import pandas as pd\n",
        "df = pd.read_csv(\"df_1913.csv\")\n",
        "df.head(15).to_html(classes=\"my-table\")"
      ],
      "id": "932ecd60",
      "execution_count": null,
      "outputs": []
    },
    {
      "cell_type": "markdown",
      "metadata": {},
      "source": [
        "<a href=\"df_1913.csv\" download>Download full CSV</a>\n",
        "\n",
        "</details> \n",
        "\n",
        "\n",
        "<details>\n",
        "<summary>1914</summary>\n",
        "\n",
        "<p style=\"text-align: center;\">\n",
        "  <img src=\"1914_english_catalogue_cover.jpeg\" width=\"500px\">\n",
        "</p>\n",
        "\n",
        "<h3>Data Table</h3>"
      ],
      "id": "d375b799"
    },
    {
      "cell_type": "code",
      "metadata": {},
      "source": [
        "#| echo: false\n",
        "import pandas as pd\n",
        "df = pd.read_csv(\"df_1914.csv\")\n",
        "df.head(15).to_html(classes=\"my-table\")"
      ],
      "id": "3462927b",
      "execution_count": null,
      "outputs": []
    },
    {
      "cell_type": "markdown",
      "metadata": {},
      "source": [
        "<a href=\"df_1914.csv\" download>Download full CSV</a>\n",
        "\n",
        "</details> \n",
        "\n",
        "\n",
        "<details>\n",
        "<summary>1915</summary>\n",
        "\n",
        "<p style=\"text-align: center;\">\n",
        "  <img src=\"1915_english_catalogue_cover.jpeg\" width=\"500px\">\n",
        "</p>\n",
        "\n",
        "<h3>Data Table</h3>"
      ],
      "id": "d9319e84"
    },
    {
      "cell_type": "code",
      "metadata": {},
      "source": [
        "#| echo: false\n",
        "import pandas as pd\n",
        "df = pd.read_csv(\"df_1915.csv\")\n",
        "df.head(15).to_html(classes=\"my-table\")"
      ],
      "id": "a0bccf11",
      "execution_count": null,
      "outputs": []
    },
    {
      "cell_type": "markdown",
      "metadata": {},
      "source": [
        "<a href=\"df_1915.csv\" download>Download full CSV</a>\n",
        "\n",
        "</details> \n",
        "\n",
        "<details>\n",
        "<summary>1916</summary>\n",
        "\n",
        "<p style=\"text-align: center;\">\n",
        "  <img src=\"1916_english_catalogue_cover.jpeg\" width=\"500px\">\n",
        "</p>\n",
        "\n",
        "<h3>Data Table</h3>"
      ],
      "id": "40753afb"
    },
    {
      "cell_type": "code",
      "metadata": {},
      "source": [
        "#| echo: false\n",
        "import pandas as pd\n",
        "df = pd.read_csv(\"df_1916.csv\")\n",
        "df.head(15).to_html(classes=\"my-table\")"
      ],
      "id": "627a9cad",
      "execution_count": null,
      "outputs": []
    },
    {
      "cell_type": "markdown",
      "metadata": {},
      "source": [
        "<a href=\"df_1916.csv\" download>Download full CSV</a>\n",
        "\n",
        "</details> \n",
        "\n",
        "\n",
        "<details>\n",
        "<summary>1917</summary>\n",
        "\n",
        "<p style=\"text-align: center;\">\n",
        "  <img src=\"1917_english_catalogue_cover.jpeg\" width=\"500px\">\n",
        "</p>\n",
        "\n",
        "<h3>Data Table</h3>"
      ],
      "id": "d1f28ed5"
    },
    {
      "cell_type": "code",
      "metadata": {},
      "source": [
        "#| echo: false\n",
        "import pandas as pd\n",
        "df = pd.read_csv(\"df_1917.csv\")\n",
        "df.head(15).to_html(classes=\"my-table\")"
      ],
      "id": "f7f3ff76",
      "execution_count": null,
      "outputs": []
    },
    {
      "cell_type": "markdown",
      "metadata": {},
      "source": [
        "<a href=\"df_1917.csv\" download>Download full CSV</a>\n",
        "\n",
        "</details> \n",
        "\n",
        "\n",
        "<details>\n",
        "<summary>1918</summary>\n",
        "\n",
        "<p style=\"text-align: center;\">\n",
        "  <img src=\"1918_english_catalogue_cover.jpeg\" width=\"500px\">\n",
        "</p>\n",
        "\n",
        "<h3>Data Table</h3>"
      ],
      "id": "0623cc07"
    },
    {
      "cell_type": "code",
      "metadata": {},
      "source": [
        "#| echo: false\n",
        "import pandas as pd\n",
        "df = pd.read_csv(\"df_1918.csv\")\n",
        "df.head(15).to_html(classes=\"my-table\")"
      ],
      "id": "3d19d4c4",
      "execution_count": null,
      "outputs": []
    },
    {
      "cell_type": "markdown",
      "metadata": {},
      "source": [
        "<a href=\"df_1918.csv\" download>Download full CSV</a>\n",
        "\n",
        "</details> \n",
        "\n",
        "\n",
        "<details>\n",
        "<summary>1919</summary>\n",
        "\n",
        "<p style=\"text-align: center;\">\n",
        "  <img src=\"1919_english_catalogue_cover.jpeg\" width=\"500px\">\n",
        "</p>\n",
        "\n",
        "<h3>Data Table</h3>"
      ],
      "id": "cc21d37c"
    },
    {
      "cell_type": "code",
      "metadata": {},
      "source": [
        "#| echo: false\n",
        "import pandas as pd\n",
        "df = pd.read_csv(\"df_1919.csv\")\n",
        "df.head(15).to_html(classes=\"my-table\")"
      ],
      "id": "ab0183bd",
      "execution_count": null,
      "outputs": []
    },
    {
      "cell_type": "markdown",
      "metadata": {},
      "source": [
        "<a href=\"df_1919.csv\" download>Download full CSV</a>\n",
        "\n",
        "</details> \n",
        "\n",
        "\n",
        "<details>\n",
        "<summary>1920</summary>\n",
        "\n",
        "<p style=\"text-align: center;\">\n",
        "  <img src=\"1920_english_catalogue_cover.jpeg\" width=\"500px\">\n",
        "</p>\n",
        "\n",
        "<h3>Data Table</h3>"
      ],
      "id": "936cbaaf"
    },
    {
      "cell_type": "code",
      "metadata": {},
      "source": [
        "#| echo: false\n",
        "import pandas as pd\n",
        "df = pd.read_csv(\"df_1920.csv\")\n",
        "df.head(15).to_html(classes=\"my-table\")"
      ],
      "id": "1d3ce8d4",
      "execution_count": null,
      "outputs": []
    },
    {
      "cell_type": "markdown",
      "metadata": {},
      "source": [
        "<a href=\"df_1920.csv\" download>Download full CSV</a>\n",
        "\n",
        "</details> \n",
        "\n",
        "\n",
        "<details>\n",
        "<summary>1921</summary>\n",
        "\n",
        "<p style=\"text-align: center;\">\n",
        "  <img src=\"1921_english_catalogue_cover.jpeg\" width=\"500px\">\n",
        "</p>\n",
        "\n",
        "<h3>Data Table</h3>"
      ],
      "id": "ab9d9b82"
    },
    {
      "cell_type": "code",
      "metadata": {},
      "source": [
        "#| echo: false\n",
        "import pandas as pd\n",
        "df = pd.read_csv(\"df_1921.csv\")\n",
        "df.head(15).to_html(classes=\"my-table\")"
      ],
      "id": "48f07f23",
      "execution_count": null,
      "outputs": []
    },
    {
      "cell_type": "markdown",
      "metadata": {},
      "source": [
        "<a href=\"df_1921.csv\" download>Download full CSV</a>\n",
        "\n",
        "</details> \n",
        "\n",
        "\n",
        "<details>\n",
        "<summary>1922</summary>\n",
        "\n",
        "<p style=\"text-align: center;\">\n",
        "  <img src=\"1922_english_catalogue_cover.jpeg\" width=\"500px\">\n",
        "</p>\n",
        "\n",
        "<h3>Data Table</h3>"
      ],
      "id": "a245541b"
    },
    {
      "cell_type": "code",
      "metadata": {},
      "source": [
        "#| echo: false\n",
        "import pandas as pd\n",
        "df = pd.read_csv(\"df_1922.csv\")\n",
        "df.head(15).to_html(classes=\"my-table\")"
      ],
      "id": "c6439db0",
      "execution_count": null,
      "outputs": []
    },
    {
      "cell_type": "markdown",
      "metadata": {},
      "source": [
        "<a href=\"df_1922.csv\" download>Download full CSV</a>\n",
        "\n",
        "</details> \n",
        "\n",
        "\n",
        "<div style=\"margin-top: 100px;\"></div>\n",
        "\n",
        "## Entries Captured by Our Dataframes\n",
        "\n",
        "This visualization shows how many catalogue entries we captured in our data relative to how many total entries were listed in each issue.\n",
        "\n",
        "<div style=\"margin-top: 60px;\"></div>"
      ],
      "id": "0162ea13"
    },
    {
      "cell_type": "code",
      "metadata": {},
      "source": [
        "#| echo: false\n",
        "import pandas as pd\n",
        "import matplotlib.pyplot as plt\n",
        "import numpy as np\n",
        "\n",
        "# Load the data\n",
        "df = pd.read_csv(\"entriescaptured.csv\")\n",
        "\n",
        "# Extract values\n",
        "years = df['Year'].astype(str)  # make sure years are strings for x-axis\n",
        "total = df['Catalogue Table']\n",
        "captured = df['Dataframe']\n",
        "percentages = df['Percentage Captured']\n",
        "\n",
        "# Setup positions\n",
        "x = np.arange(len(years))  # the label locations\n",
        "width = 0.35  # width of the bars\n",
        "\n",
        "# Create the plot\n",
        "fig, ax = plt.subplots(figsize=(8, 6))\n",
        "\n",
        "# Bars\n",
        "bars1 = ax.bar(x - width/2, total, width, label='Total Entries')\n",
        "bars2 = ax.bar(x + width/2, captured, width, label='Captured Entries')\n",
        "\n",
        "# Annotate with percentage above the group\n",
        "for i, pct in enumerate(percentages):\n",
        "    ax.text(x[i], max(total[i], captured[i]) + 20, f\"{pct:.1f}%\", ha='center', va='bottom', fontsize=10, fontweight='bold')\n",
        "\n",
        "# Labels and title\n",
        "ax.set_xlabel('Year')\n",
        "ax.set_ylabel('Number of Entries')\n",
        "ax.set_title('Our Coverage of English Catalogue of Books by Year')\n",
        "ax.set_xticks(x)\n",
        "ax.set_xticklabels(years)\n",
        "ax.legend()\n",
        "\n",
        "plt.tight_layout()\n",
        "plt.show()"
      ],
      "id": "31a7d30a",
      "execution_count": null,
      "outputs": []
    }
  ],
  "metadata": {
    "kernelspec": {
      "name": "python3",
      "language": "python",
      "display_name": "Python 3 (ipykernel)",
      "path": "/Users/tanishadeka/Downloads/quarto_website_test/.venv/share/jupyter/kernels/python3"
    }
  },
  "nbformat": 4,
  "nbformat_minor": 5
}