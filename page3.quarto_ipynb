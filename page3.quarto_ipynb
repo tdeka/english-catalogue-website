{
  "cells": [
    {
      "cell_type": "markdown",
      "metadata": {},
      "source": [
        "---\n",
        "format: html\n",
        "---\n",
        "\n",
        "<h1 class=\"page-top\">Publications by Publisher & Year</h1>\n",
        "\n",
        "## Publications by Publisher"
      ],
      "id": "c9889047"
    },
    {
      "cell_type": "code",
      "metadata": {},
      "source": [
        "#| echo: false\n",
        "import pandas as pd\n",
        "import matplotlib.pyplot as plt\n",
        "from ipywidgets import interact\n",
        "\n",
        "# Load and prepare data\n",
        "df = pd.read_csv(\"top_publisher.csv\")\n",
        "\n",
        "# Pivot table\n",
        "pivot_df = (\n",
        "    df.pivot_table(\n",
        "        index=\"year\",\n",
        "        columns=\"top_publisher\",\n",
        "        values=\"num_entry\",\n",
        "        aggfunc=\"sum\",\n",
        "        fill_value=0,\n",
        "    )\n",
        "    .sort_index()\n",
        ")\n",
        "\n",
        "publisher_options = sorted(pivot_df.columns.tolist())\n",
        "\n",
        "def plot_publisher(selected_publisher):\n",
        "    fig, ax = plt.subplots(figsize=(8, 6))\n",
        "    pivot_df[selected_publisher].plot(kind=\"line\", ax=ax, color=\"skyblue\", marker=\"o\")\n",
        "    ax.set_title(f\"Publications for Publisher: {selected_publisher} (1912 – 1922)\")\n",
        "    ax.set_xlabel(\"Year\")\n",
        "    ax.set_ylabel(\"Number of Publications\")\n",
        "    plt.tight_layout()\n",
        "    plt.show()\n",
        "\n",
        "# Dropdown + chart\n",
        "interact(plot_publisher, selected_publisher=publisher_options);"
      ],
      "id": "c7711ac7",
      "execution_count": null,
      "outputs": []
    }
  ],
  "metadata": {
    "kernelspec": {
      "name": "python3",
      "language": "python",
      "display_name": "Python 3 (ipykernel)",
      "path": "/Users/tanishadeka/Desktop/english-catalogue-website/.venv/share/jupyter/kernels/python3"
    }
  },
  "nbformat": 4,
  "nbformat_minor": 5
}