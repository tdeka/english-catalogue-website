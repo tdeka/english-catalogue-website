{
  "cells": [
    {
      "cell_type": "markdown",
      "metadata": {},
      "source": [
        "---\n",
        "format: html\n",
        "---\n",
        "\n",
        "<h1 class=\"page-top\">Top Authors by Year</h1>\n",
        "\n",
        "<div style=\"margin-top: 40px;\"></div>\n",
        "\n",
        "Select a year to see the top 15 authors for that year!\n",
        "\n",
        "<div style=\"margin-top: 40px;\"></div>\n",
        "\n",
        "<details>\n",
        "<summary><strong>1912</strong></summary>"
      ],
      "id": "e70269dd"
    },
    {
      "cell_type": "code",
      "metadata": {},
      "source": [
        "#| echo: false\n",
        "import pandas as pd\n",
        "import matplotlib.pyplot as plt\n",
        "\n",
        "df = pd.read_csv(\"df_1912.csv\")\n",
        "df['author_name'] = df['author_name'].astype(str).str.strip()\n",
        "df['author_name'] = df['author_name'].replace(['', 'nan', 'NA', '<NA>'], pd.NA)\n",
        "df_clean = df.dropna(subset=['author_name'])\n",
        "\n",
        "top_authors = df_clean['author_name'].value_counts().head(15)\n",
        "\n",
        "plt.figure(figsize=(8, 6))\n",
        "top_authors.plot(kind='bar')\n",
        "plt.title(\"Top 15 Authors in 1912\")\n",
        "plt.xlabel(\"Author\")\n",
        "plt.ylabel(\"Number of Publications\")\n",
        "plt.xticks(rotation=45, ha='right')\n",
        "plt.tight_layout()\n",
        "plt.show()"
      ],
      "id": "6c584235",
      "execution_count": null,
      "outputs": []
    },
    {
      "cell_type": "markdown",
      "metadata": {},
      "source": [
        "</details> \n",
        "\n",
        "\n",
        "<details>\n",
        "<summary><strong>1913</strong></summary>"
      ],
      "id": "89de251b"
    },
    {
      "cell_type": "code",
      "metadata": {},
      "source": [
        "#| echo: false\n",
        "import pandas as pd\n",
        "import matplotlib.pyplot as plt\n",
        "\n",
        "df = pd.read_csv(\"df_1913.csv\")\n",
        "df['author_name'] = df['author_name'].astype(str).str.strip()\n",
        "df['author_name'] = df['author_name'].replace(['', 'nan', 'NA', '<NA>'], pd.NA)\n",
        "df_clean = df.dropna(subset=['author_name'])\n",
        "\n",
        "top_authors = df_clean['author_name'].value_counts().head(15)\n",
        "\n",
        "plt.figure(figsize=(8, 6))\n",
        "top_authors.plot(kind='bar')\n",
        "plt.title(\"Top 15 Authors in 1913\")\n",
        "plt.xlabel(\"Author\")\n",
        "plt.ylabel(\"Number of Publications\")\n",
        "plt.xticks(rotation=45, ha='right')\n",
        "plt.tight_layout()\n",
        "plt.show()"
      ],
      "id": "baa022d1",
      "execution_count": null,
      "outputs": []
    },
    {
      "cell_type": "markdown",
      "metadata": {},
      "source": [
        "</details> \n",
        "\n",
        "\n",
        "<details>\n",
        "<summary><strong>1914</strong></summary>"
      ],
      "id": "9fc13ff2"
    },
    {
      "cell_type": "code",
      "metadata": {},
      "source": [
        "#| echo: false\n",
        "import pandas as pd\n",
        "import matplotlib.pyplot as plt\n",
        "\n",
        "df = pd.read_csv(\"df_1914.csv\")\n",
        "df['author_name'] = df['author_name'].astype(str).str.strip()\n",
        "df['author_name'] = df['author_name'].replace(['', 'nan', 'NA', '<NA>'], pd.NA)\n",
        "df_clean = df.dropna(subset=['author_name'])\n",
        "\n",
        "top_authors = df_clean['author_name'].value_counts().head(15)\n",
        "\n",
        "plt.figure(figsize=(8, 6))\n",
        "top_authors.plot(kind='bar')\n",
        "plt.title(\"Top 15 Authors in 1914\")\n",
        "plt.xlabel(\"Author\")\n",
        "plt.ylabel(\"Number of Publications\")\n",
        "plt.xticks(rotation=45, ha='right')\n",
        "plt.tight_layout()\n",
        "plt.show()"
      ],
      "id": "bcb10506",
      "execution_count": null,
      "outputs": []
    },
    {
      "cell_type": "markdown",
      "metadata": {},
      "source": [
        "</details> \n",
        "\n",
        "\n",
        "<details>\n",
        "<summary><strong>1915</strong></summary>"
      ],
      "id": "b4a4c3ca"
    },
    {
      "cell_type": "code",
      "metadata": {},
      "source": [
        "#| echo: false\n",
        "import pandas as pd\n",
        "import matplotlib.pyplot as plt\n",
        "\n",
        "df = pd.read_csv(\"df_1915.csv\")\n",
        "df['author_name'] = df['author_name'].astype(str).str.strip()\n",
        "df['author_name'] = df['author_name'].replace(['', 'nan', 'NA', '<NA>'], pd.NA)\n",
        "df_clean = df.dropna(subset=['author_name'])\n",
        "\n",
        "top_authors = df_clean['author_name'].value_counts().head(15)\n",
        "\n",
        "plt.figure(figsize=(8, 6))\n",
        "top_authors.plot(kind='bar')\n",
        "plt.title(\"Top 15 Authors in 1915\")\n",
        "plt.xlabel(\"Author\")\n",
        "plt.ylabel(\"Number of Publications\")\n",
        "plt.xticks(rotation=45, ha='right')\n",
        "plt.tight_layout()\n",
        "plt.show()"
      ],
      "id": "b67f229b",
      "execution_count": null,
      "outputs": []
    },
    {
      "cell_type": "markdown",
      "metadata": {},
      "source": [
        "</details> \n",
        "\n",
        "\n",
        "<details>\n",
        "<summary><strong>1916</strong></summary>"
      ],
      "id": "fb179d0d"
    },
    {
      "cell_type": "code",
      "metadata": {},
      "source": [
        "#| echo: false\n",
        "import pandas as pd\n",
        "import matplotlib.pyplot as plt\n",
        "\n",
        "df = pd.read_csv(\"df_1916.csv\")\n",
        "df['author_name'] = df['author_name'].astype(str).str.strip()\n",
        "df['author_name'] = df['author_name'].replace(['', 'nan', 'NA', '<NA>'], pd.NA)\n",
        "df_clean = df.dropna(subset=['author_name'])\n",
        "\n",
        "top_authors = df_clean['author_name'].value_counts().head(15)\n",
        "\n",
        "plt.figure(figsize=(8, 6))\n",
        "top_authors.plot(kind='bar')\n",
        "plt.title(\"Top 15 Authors in 1916\")\n",
        "plt.xlabel(\"Author\")\n",
        "plt.ylabel(\"Number of Publications\")\n",
        "plt.xticks(rotation=45, ha='right')\n",
        "plt.tight_layout()\n",
        "plt.show()"
      ],
      "id": "3efb1e29",
      "execution_count": null,
      "outputs": []
    },
    {
      "cell_type": "markdown",
      "metadata": {},
      "source": [
        "</details> \n",
        "\n",
        "\n",
        "<details>\n",
        "<summary><strong>1917</strong></summary>"
      ],
      "id": "6297669a"
    },
    {
      "cell_type": "code",
      "metadata": {},
      "source": [
        "#| echo: false\n",
        "import pandas as pd\n",
        "import matplotlib.pyplot as plt\n",
        "\n",
        "df = pd.read_csv(\"df_1917.csv\")\n",
        "df['author_name'] = df['author_name'].astype(str).str.strip()\n",
        "df['author_name'] = df['author_name'].replace(['', 'nan', 'NA', '<NA>'], pd.NA)\n",
        "df_clean = df.dropna(subset=['author_name'])\n",
        "\n",
        "top_authors = df_clean['author_name'].value_counts().head(15)\n",
        "\n",
        "plt.figure(figsize=(8, 6))\n",
        "top_authors.plot(kind='bar')\n",
        "plt.title(\"Top 15 Authors in 1917\")\n",
        "plt.xlabel(\"Author\")\n",
        "plt.ylabel(\"Number of Publications\")\n",
        "plt.xticks(rotation=45, ha='right')\n",
        "plt.tight_layout()\n",
        "plt.show()"
      ],
      "id": "c46f8c0b",
      "execution_count": null,
      "outputs": []
    },
    {
      "cell_type": "markdown",
      "metadata": {},
      "source": [
        "</details> \n",
        "\n",
        "\n",
        "<details>\n",
        "<summary><strong>1918</strong></summary>"
      ],
      "id": "3d43d5be"
    },
    {
      "cell_type": "code",
      "metadata": {},
      "source": [
        "#| echo: false\n",
        "import pandas as pd\n",
        "import matplotlib.pyplot as plt\n",
        "\n",
        "df = pd.read_csv(\"df_1918.csv\")\n",
        "df['author_name'] = df['author_name'].astype(str).str.strip()\n",
        "df['author_name'] = df['author_name'].replace(['', 'nan', 'NA', '<NA>'], pd.NA)\n",
        "df_clean = df.dropna(subset=['author_name'])\n",
        "\n",
        "top_authors = df_clean['author_name'].value_counts().head(15)\n",
        "\n",
        "plt.figure(figsize=(8, 6))\n",
        "top_authors.plot(kind='bar')\n",
        "plt.title(\"Top 15 Authors in 1918\")\n",
        "plt.xlabel(\"Author\")\n",
        "plt.ylabel(\"Number of Publications\")\n",
        "plt.xticks(rotation=45, ha='right')\n",
        "plt.tight_layout()\n",
        "plt.show()"
      ],
      "id": "ad953ea6",
      "execution_count": null,
      "outputs": []
    },
    {
      "cell_type": "markdown",
      "metadata": {},
      "source": [
        "</details> \n",
        "\n",
        "\n",
        "<details>\n",
        "<summary><strong>1919</strong></summary>"
      ],
      "id": "3018adce"
    },
    {
      "cell_type": "code",
      "metadata": {},
      "source": [
        "#| echo: false\n",
        "import pandas as pd\n",
        "import matplotlib.pyplot as plt\n",
        "\n",
        "df = pd.read_csv(\"df_1919.csv\")\n",
        "df['author_name'] = df['author_name'].astype(str).str.strip()\n",
        "df['author_name'] = df['author_name'].replace(['', 'nan', 'NA', '<NA>'], pd.NA)\n",
        "df_clean = df.dropna(subset=['author_name'])\n",
        "\n",
        "top_authors = df_clean['author_name'].value_counts().head(15)\n",
        "\n",
        "plt.figure(figsize=(8, 6))\n",
        "top_authors.plot(kind='bar')\n",
        "plt.title(\"Top 15 Authors in 1919\")\n",
        "plt.xlabel(\"Author\")\n",
        "plt.ylabel(\"Number of Publications\")\n",
        "plt.xticks(rotation=45, ha='right')\n",
        "plt.tight_layout()\n",
        "plt.show()"
      ],
      "id": "aeced241",
      "execution_count": null,
      "outputs": []
    },
    {
      "cell_type": "markdown",
      "metadata": {},
      "source": [
        "</details> \n",
        "\n",
        "\n",
        "<details>\n",
        "<summary><strong>1920</strong></summary>"
      ],
      "id": "bf4860d4"
    },
    {
      "cell_type": "code",
      "metadata": {},
      "source": [
        "#| echo: false\n",
        "import pandas as pd\n",
        "import matplotlib.pyplot as plt\n",
        "\n",
        "df = pd.read_csv(\"df_1920.csv\")\n",
        "df['author_name'] = df['author_name'].astype(str).str.strip()\n",
        "df['author_name'] = df['author_name'].replace(['', 'nan', 'NA', '<NA>'], pd.NA)\n",
        "df_clean = df.dropna(subset=['author_name'])\n",
        "\n",
        "top_authors = df_clean['author_name'].value_counts().head(15)\n",
        "\n",
        "plt.figure(figsize=(8, 6))\n",
        "top_authors.plot(kind='bar')\n",
        "plt.title(\"Top 15 Authors in 1920\")\n",
        "plt.xlabel(\"Author\")\n",
        "plt.ylabel(\"Number of Publications\")\n",
        "plt.xticks(rotation=45, ha='right')\n",
        "plt.tight_layout()\n",
        "plt.show()"
      ],
      "id": "2d2419e7",
      "execution_count": null,
      "outputs": []
    },
    {
      "cell_type": "markdown",
      "metadata": {},
      "source": [
        "</details> \n",
        "\n",
        "\n",
        "<details>\n",
        "<summary><strong>1921</strong></summary>"
      ],
      "id": "ffb75f1f"
    },
    {
      "cell_type": "code",
      "metadata": {},
      "source": [
        "#| echo: false\n",
        "import pandas as pd\n",
        "import matplotlib.pyplot as plt\n",
        "\n",
        "df = pd.read_csv(\"df_1921.csv\")\n",
        "df['author_name'] = df['author_name'].astype(str).str.strip()\n",
        "df['author_name'] = df['author_name'].replace(['', 'nan', 'NA', '<NA>'], pd.NA)\n",
        "df_clean = df.dropna(subset=['author_name'])\n",
        "\n",
        "top_authors = df_clean['author_name'].value_counts().head(15)\n",
        "\n",
        "plt.figure(figsize=(8, 6))\n",
        "top_authors.plot(kind='bar')\n",
        "plt.title(\"Top 15 Authors in 1921\")\n",
        "plt.xlabel(\"Author\")\n",
        "plt.ylabel(\"Number of Publications\")\n",
        "plt.xticks(rotation=45, ha='right')\n",
        "plt.tight_layout()\n",
        "plt.show()"
      ],
      "id": "e1c19816",
      "execution_count": null,
      "outputs": []
    },
    {
      "cell_type": "markdown",
      "metadata": {},
      "source": [
        "</details> \n",
        "\n",
        "\n",
        "<details>\n",
        "<summary><strong>1922</strong></summary>"
      ],
      "id": "91abb984"
    },
    {
      "cell_type": "code",
      "metadata": {},
      "source": [
        "#| echo: false\n",
        "import pandas as pd\n",
        "import matplotlib.pyplot as plt\n",
        "\n",
        "df = pd.read_csv(\"df_1922.csv\")\n",
        "df['author_name'] = df['author_name'].astype(str).str.strip()\n",
        "df['author_name'] = df['author_name'].replace(['', 'nan', 'NA', '<NA>'], pd.NA)\n",
        "df_clean = df.dropna(subset=['author_name'])\n",
        "\n",
        "top_authors = df_clean['author_name'].value_counts().head(15)\n",
        "\n",
        "plt.figure(figsize=(8, 6))\n",
        "top_authors.plot(kind='bar')\n",
        "plt.title(\"Top 15 Authors in 1922\")\n",
        "plt.xlabel(\"Author\")\n",
        "plt.ylabel(\"Number of Publications\")\n",
        "plt.xticks(rotation=45, ha='right')\n",
        "plt.tight_layout()\n",
        "plt.show()"
      ],
      "id": "5b31caff",
      "execution_count": null,
      "outputs": []
    },
    {
      "cell_type": "markdown",
      "metadata": {},
      "source": [
        "</details> "
      ],
      "id": "f29bfe89"
    }
  ],
  "metadata": {
    "kernelspec": {
      "name": "python3",
      "language": "python",
      "display_name": "Python 3 (ipykernel)",
      "path": "/Users/tanishadeka/Desktop/english-catalogue-website/.venv/share/jupyter/kernels/python3"
    }
  },
  "nbformat": 4,
  "nbformat_minor": 5
}