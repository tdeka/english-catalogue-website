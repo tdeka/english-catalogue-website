{
  "cells": [
    {
      "cell_type": "raw",
      "metadata": {},
      "source": [
        "---\n",
        "title: \"Top Authors by Year\"\n",
        "format: html\n",
        "\n",
        "---"
      ],
      "id": "c0aeb16d"
    },
    {
      "cell_type": "code",
      "metadata": {},
      "source": [
        "#| echo: false\n",
        "import pandas as pd\n",
        "import matplotlib.pyplot as plt\n",
        "from IPython.display import display, Markdown\n",
        "\n",
        "years = [1912, 1913, 1914, 1915]\n",
        "\n",
        "for year in years:\n",
        "    try:\n",
        "        # Construct file name and load data\n",
        "        file_path = f\"df_{year}.csv\"\n",
        "        df = pd.read_csv(file_path)\n",
        "\n",
        "        # Clean data\n",
        "        df['author_name'] = df['author_name'].astype(str).str.strip()\n",
        "\n",
        "        df['author_name'] = df['author_name'].replace(['', 'nan', 'NA', '<NA>'], pd.NA)\n",
        "\n",
        "        df_clean = df.dropna(subset=['author_name'])\n",
        "\n",
        "        # Get top 15 publishers\n",
        "        top_authors = df_clean['author_name'].value_counts().head(15)\n",
        "\n",
        "        # Add heading\n",
        "        display(Markdown(f\"## {year}\"))\n",
        "\n",
        "        # Plot\n",
        "        plt.figure(figsize=(10, 6))\n",
        "        top_authors.plot(kind='bar')\n",
        "        plt.title(f\"Top 15 Authors in {year}\")\n",
        "        plt.xlabel(\"Author\")\n",
        "        plt.ylabel(\"Number of Publications\")\n",
        "        plt.xticks(rotation=45, ha='right')\n",
        "        plt.tight_layout()\n",
        "        plt.show()\n",
        "\n",
        "    except FileNotFoundError:\n",
        "        print(f\"File for {year} not found. Skipping.\")"
      ],
      "id": "9aa64c21",
      "execution_count": null,
      "outputs": []
    }
  ],
  "metadata": {
    "kernelspec": {
      "name": "python3",
      "language": "python",
      "display_name": "Python 3 (ipykernel)",
      "path": "/Users/tanishadeka/Downloads/quarto_website_test/.venv/share/jupyter/kernels/python3"
    }
  },
  "nbformat": 4,
  "nbformat_minor": 5
}