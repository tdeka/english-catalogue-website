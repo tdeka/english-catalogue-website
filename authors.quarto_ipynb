{
  "cells": [
    {
      "cell_type": "markdown",
      "metadata": {},
      "source": [
        "---\n",
        "title: \"Top Authors by Year\"\n",
        "format: html\n",
        "\n",
        "---\n",
        "\n",
        "<div style=\"margin-top: 40px;\"></div>\n",
        "\n",
        "Select a year to see the top 15 authors for that year!\n",
        "\n",
        "<div style=\"margin-top: 40px;\"></div>\n",
        "\n",
        "<details>\n",
        "<summary><strong>1912</strong></summary>"
      ],
      "id": "6c0072b1"
    },
    {
      "cell_type": "code",
      "metadata": {},
      "source": [
        "#| echo: false\n",
        "import pandas as pd\n",
        "import matplotlib.pyplot as plt\n",
        "\n",
        "df = pd.read_csv(\"df_1912.csv\")\n",
        "df['author_name'] = df['author_name'].astype(str).str.strip()\n",
        "df['author_name'] = df['author_name'].replace(['', 'nan', 'NA', '<NA>'], pd.NA)\n",
        "df_clean = df.dropna(subset=['author_name'])\n",
        "\n",
        "top_authors = df_clean['author_name'].value_counts().head(15)\n",
        "\n",
        "plt.figure(figsize=(8, 6))\n",
        "top_authors.plot(kind='bar')\n",
        "plt.title(\"Top 15 Authors in 1912\")\n",
        "plt.xlabel(\"Author\")\n",
        "plt.ylabel(\"Number of Publications\")\n",
        "plt.xticks(rotation=45, ha='right')\n",
        "plt.tight_layout()\n",
        "plt.show()"
      ],
      "id": "2a12b8b4",
      "execution_count": null,
      "outputs": []
    },
    {
      "cell_type": "markdown",
      "metadata": {},
      "source": [
        "</details> \n",
        "\n",
        "\n",
        "<details>\n",
        "<summary><strong>1913</strong></summary>"
      ],
      "id": "0a2df566"
    },
    {
      "cell_type": "code",
      "metadata": {},
      "source": [
        "#| echo: false\n",
        "import pandas as pd\n",
        "import matplotlib.pyplot as plt\n",
        "\n",
        "df = pd.read_csv(\"df_1913.csv\")\n",
        "df['author_name'] = df['author_name'].astype(str).str.strip()\n",
        "df['author_name'] = df['author_name'].replace(['', 'nan', 'NA', '<NA>'], pd.NA)\n",
        "df_clean = df.dropna(subset=['author_name'])\n",
        "\n",
        "top_authors = df_clean['author_name'].value_counts().head(15)\n",
        "\n",
        "plt.figure(figsize=(8, 6))\n",
        "top_authors.plot(kind='bar')\n",
        "plt.title(\"Top 15 Authors in 1913\")\n",
        "plt.xlabel(\"Author\")\n",
        "plt.ylabel(\"Number of Publications\")\n",
        "plt.xticks(rotation=45, ha='right')\n",
        "plt.tight_layout()\n",
        "plt.show()"
      ],
      "id": "fb34257d",
      "execution_count": null,
      "outputs": []
    },
    {
      "cell_type": "markdown",
      "metadata": {},
      "source": [
        "</details> \n",
        "\n",
        "\n",
        "<details>\n",
        "<summary><strong>1914</strong></summary>"
      ],
      "id": "c7340707"
    },
    {
      "cell_type": "code",
      "metadata": {},
      "source": [
        "#| echo: false\n",
        "import pandas as pd\n",
        "import matplotlib.pyplot as plt\n",
        "\n",
        "df = pd.read_csv(\"df_1914.csv\")\n",
        "df['author_name'] = df['author_name'].astype(str).str.strip()\n",
        "df['author_name'] = df['author_name'].replace(['', 'nan', 'NA', '<NA>'], pd.NA)\n",
        "df_clean = df.dropna(subset=['author_name'])\n",
        "\n",
        "top_authors = df_clean['author_name'].value_counts().head(15)\n",
        "\n",
        "plt.figure(figsize=(8, 6))\n",
        "top_authors.plot(kind='bar')\n",
        "plt.title(\"Top 15 Authors in 1914\")\n",
        "plt.xlabel(\"Author\")\n",
        "plt.ylabel(\"Number of Publications\")\n",
        "plt.xticks(rotation=45, ha='right')\n",
        "plt.tight_layout()\n",
        "plt.show()"
      ],
      "id": "63cb23d2",
      "execution_count": null,
      "outputs": []
    },
    {
      "cell_type": "markdown",
      "metadata": {},
      "source": [
        "</details> \n",
        "\n",
        "\n",
        "<details>\n",
        "<summary><strong>1915</strong></summary>"
      ],
      "id": "4518055e"
    },
    {
      "cell_type": "code",
      "metadata": {},
      "source": [
        "#| echo: false\n",
        "import pandas as pd\n",
        "import matplotlib.pyplot as plt\n",
        "\n",
        "df = pd.read_csv(\"df_1915.csv\")\n",
        "df['author_name'] = df['author_name'].astype(str).str.strip()\n",
        "df['author_name'] = df['author_name'].replace(['', 'nan', 'NA', '<NA>'], pd.NA)\n",
        "df_clean = df.dropna(subset=['author_name'])\n",
        "\n",
        "top_authors = df_clean['author_name'].value_counts().head(15)\n",
        "\n",
        "plt.figure(figsize=(8, 6))\n",
        "top_authors.plot(kind='bar')\n",
        "plt.title(\"Top 15 Authors in 1915\")\n",
        "plt.xlabel(\"Author\")\n",
        "plt.ylabel(\"Number of Publications\")\n",
        "plt.xticks(rotation=45, ha='right')\n",
        "plt.tight_layout()\n",
        "plt.show()"
      ],
      "id": "f4dbae60",
      "execution_count": null,
      "outputs": []
    },
    {
      "cell_type": "markdown",
      "metadata": {},
      "source": [
        "</details> \n",
        "\n",
        "\n",
        "<details>\n",
        "<summary><strong>1916</strong></summary>"
      ],
      "id": "02ab6a48"
    },
    {
      "cell_type": "code",
      "metadata": {},
      "source": [
        "#| echo: false\n",
        "import pandas as pd\n",
        "import matplotlib.pyplot as plt\n",
        "\n",
        "df = pd.read_csv(\"df_1916.csv\")\n",
        "df['author_name'] = df['author_name'].astype(str).str.strip()\n",
        "df['author_name'] = df['author_name'].replace(['', 'nan', 'NA', '<NA>'], pd.NA)\n",
        "df_clean = df.dropna(subset=['author_name'])\n",
        "\n",
        "top_authors = df_clean['author_name'].value_counts().head(15)\n",
        "\n",
        "plt.figure(figsize=(8, 6))\n",
        "top_authors.plot(kind='bar')\n",
        "plt.title(\"Top 15 Authors in 1916\")\n",
        "plt.xlabel(\"Author\")\n",
        "plt.ylabel(\"Number of Publications\")\n",
        "plt.xticks(rotation=45, ha='right')\n",
        "plt.tight_layout()\n",
        "plt.show()"
      ],
      "id": "391a9d72",
      "execution_count": null,
      "outputs": []
    },
    {
      "cell_type": "markdown",
      "metadata": {},
      "source": [
        "</details> \n",
        "\n",
        "\n",
        "<details>\n",
        "<summary><strong>1917</strong></summary>"
      ],
      "id": "f7bea963"
    },
    {
      "cell_type": "code",
      "metadata": {},
      "source": [
        "#| echo: false\n",
        "import pandas as pd\n",
        "import matplotlib.pyplot as plt\n",
        "\n",
        "df = pd.read_csv(\"df_1917.csv\")\n",
        "df['author_name'] = df['author_name'].astype(str).str.strip()\n",
        "df['author_name'] = df['author_name'].replace(['', 'nan', 'NA', '<NA>'], pd.NA)\n",
        "df_clean = df.dropna(subset=['author_name'])\n",
        "\n",
        "top_authors = df_clean['author_name'].value_counts().head(15)\n",
        "\n",
        "plt.figure(figsize=(8, 6))\n",
        "top_authors.plot(kind='bar')\n",
        "plt.title(\"Top 15 Authors in 1917\")\n",
        "plt.xlabel(\"Author\")\n",
        "plt.ylabel(\"Number of Publications\")\n",
        "plt.xticks(rotation=45, ha='right')\n",
        "plt.tight_layout()\n",
        "plt.show()"
      ],
      "id": "5b81fcbf",
      "execution_count": null,
      "outputs": []
    },
    {
      "cell_type": "markdown",
      "metadata": {},
      "source": [
        "</details> \n",
        "\n",
        "\n",
        "<details>\n",
        "<summary><strong>1918</strong></summary>"
      ],
      "id": "3bc16132"
    },
    {
      "cell_type": "code",
      "metadata": {},
      "source": [
        "#| echo: false\n",
        "import pandas as pd\n",
        "import matplotlib.pyplot as plt\n",
        "\n",
        "df = pd.read_csv(\"df_1918.csv\")\n",
        "df['author_name'] = df['author_name'].astype(str).str.strip()\n",
        "df['author_name'] = df['author_name'].replace(['', 'nan', 'NA', '<NA>'], pd.NA)\n",
        "df_clean = df.dropna(subset=['author_name'])\n",
        "\n",
        "top_authors = df_clean['author_name'].value_counts().head(15)\n",
        "\n",
        "plt.figure(figsize=(8, 6))\n",
        "top_authors.plot(kind='bar')\n",
        "plt.title(\"Top 15 Authors in 1918\")\n",
        "plt.xlabel(\"Author\")\n",
        "plt.ylabel(\"Number of Publications\")\n",
        "plt.xticks(rotation=45, ha='right')\n",
        "plt.tight_layout()\n",
        "plt.show()"
      ],
      "id": "2b2c220f",
      "execution_count": null,
      "outputs": []
    },
    {
      "cell_type": "markdown",
      "metadata": {},
      "source": [
        "</details> \n",
        "\n",
        "\n",
        "<details>\n",
        "<summary><strong>1919</strong></summary>"
      ],
      "id": "7c4ed9a1"
    },
    {
      "cell_type": "code",
      "metadata": {},
      "source": [
        "#| echo: false\n",
        "import pandas as pd\n",
        "import matplotlib.pyplot as plt\n",
        "\n",
        "df = pd.read_csv(\"df_1919.csv\")\n",
        "df['author_name'] = df['author_name'].astype(str).str.strip()\n",
        "df['author_name'] = df['author_name'].replace(['', 'nan', 'NA', '<NA>'], pd.NA)\n",
        "df_clean = df.dropna(subset=['author_name'])\n",
        "\n",
        "top_authors = df_clean['author_name'].value_counts().head(15)\n",
        "\n",
        "plt.figure(figsize=(8, 6))\n",
        "top_authors.plot(kind='bar')\n",
        "plt.title(\"Top 15 Authors in 1919\")\n",
        "plt.xlabel(\"Author\")\n",
        "plt.ylabel(\"Number of Publications\")\n",
        "plt.xticks(rotation=45, ha='right')\n",
        "plt.tight_layout()\n",
        "plt.show()"
      ],
      "id": "e0055e07",
      "execution_count": null,
      "outputs": []
    },
    {
      "cell_type": "markdown",
      "metadata": {},
      "source": [
        "</details> \n",
        "\n",
        "\n",
        "<details>\n",
        "<summary><strong>1920</strong></summary>"
      ],
      "id": "56d8a2c3"
    },
    {
      "cell_type": "code",
      "metadata": {},
      "source": [
        "#| echo: false\n",
        "import pandas as pd\n",
        "import matplotlib.pyplot as plt\n",
        "\n",
        "df = pd.read_csv(\"df_1920.csv\")\n",
        "df['author_name'] = df['author_name'].astype(str).str.strip()\n",
        "df['author_name'] = df['author_name'].replace(['', 'nan', 'NA', '<NA>'], pd.NA)\n",
        "df_clean = df.dropna(subset=['author_name'])\n",
        "\n",
        "top_authors = df_clean['author_name'].value_counts().head(15)\n",
        "\n",
        "plt.figure(figsize=(8, 6))\n",
        "top_authors.plot(kind='bar')\n",
        "plt.title(\"Top 15 Authors in 1920\")\n",
        "plt.xlabel(\"Author\")\n",
        "plt.ylabel(\"Number of Publications\")\n",
        "plt.xticks(rotation=45, ha='right')\n",
        "plt.tight_layout()\n",
        "plt.show()"
      ],
      "id": "ef1c0c1e",
      "execution_count": null,
      "outputs": []
    },
    {
      "cell_type": "markdown",
      "metadata": {},
      "source": [
        "</details> \n",
        "\n",
        "\n",
        "<details>\n",
        "<summary><strong>1921</strong></summary>"
      ],
      "id": "5063baf1"
    },
    {
      "cell_type": "code",
      "metadata": {},
      "source": [
        "#| echo: false\n",
        "import pandas as pd\n",
        "import matplotlib.pyplot as plt\n",
        "\n",
        "df = pd.read_csv(\"df_1921.csv\")\n",
        "df['author_name'] = df['author_name'].astype(str).str.strip()\n",
        "df['author_name'] = df['author_name'].replace(['', 'nan', 'NA', '<NA>'], pd.NA)\n",
        "df_clean = df.dropna(subset=['author_name'])\n",
        "\n",
        "top_authors = df_clean['author_name'].value_counts().head(15)\n",
        "\n",
        "plt.figure(figsize=(8, 6))\n",
        "top_authors.plot(kind='bar')\n",
        "plt.title(\"Top 15 Authors in 1921\")\n",
        "plt.xlabel(\"Author\")\n",
        "plt.ylabel(\"Number of Publications\")\n",
        "plt.xticks(rotation=45, ha='right')\n",
        "plt.tight_layout()\n",
        "plt.show()"
      ],
      "id": "d11833bf",
      "execution_count": null,
      "outputs": []
    },
    {
      "cell_type": "markdown",
      "metadata": {},
      "source": [
        "</details> \n",
        "\n",
        "\n",
        "<details>\n",
        "<summary><strong>1922</strong></summary>"
      ],
      "id": "ea0ac22d"
    },
    {
      "cell_type": "code",
      "metadata": {},
      "source": [
        "#| echo: false\n",
        "import pandas as pd\n",
        "import matplotlib.pyplot as plt\n",
        "\n",
        "df = pd.read_csv(\"df_1922.csv\")\n",
        "df['author_name'] = df['author_name'].astype(str).str.strip()\n",
        "df['author_name'] = df['author_name'].replace(['', 'nan', 'NA', '<NA>'], pd.NA)\n",
        "df_clean = df.dropna(subset=['author_name'])\n",
        "\n",
        "top_authors = df_clean['author_name'].value_counts().head(15)\n",
        "\n",
        "plt.figure(figsize=(8, 6))\n",
        "top_authors.plot(kind='bar')\n",
        "plt.title(\"Top 15 Authors in 1922\")\n",
        "plt.xlabel(\"Author\")\n",
        "plt.ylabel(\"Number of Publications\")\n",
        "plt.xticks(rotation=45, ha='right')\n",
        "plt.tight_layout()\n",
        "plt.show()"
      ],
      "id": "8e3a1a2c",
      "execution_count": null,
      "outputs": []
    },
    {
      "cell_type": "markdown",
      "metadata": {},
      "source": [
        "</details> "
      ],
      "id": "5ed9d9c3"
    }
  ],
  "metadata": {
    "kernelspec": {
      "name": "python3",
      "language": "python",
      "display_name": "Python 3 (ipykernel)",
      "path": "/Users/tanishadeka/Downloads/quarto_website_test/.venv/share/jupyter/kernels/python3"
    }
  },
  "nbformat": 4,
  "nbformat_minor": 5
}