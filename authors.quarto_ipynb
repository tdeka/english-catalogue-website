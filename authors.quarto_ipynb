{
  "cells": [
    {
      "cell_type": "markdown",
      "metadata": {},
      "source": [
        "---\n",
        "title: \"Top Authors by Year\"\n",
        "format: html\n",
        "\n",
        "---\n",
        "\n",
        "<details>\n",
        "<summary><strong>1912</strong></summary>"
      ],
      "id": "0b214d28"
    },
    {
      "cell_type": "code",
      "metadata": {},
      "source": [
        "#| echo: false\n",
        "import pandas as pd\n",
        "import matplotlib.pyplot as plt\n",
        "\n",
        "df = pd.read_csv(\"df_1912.csv\")\n",
        "df['author_name'] = df['author_name'].astype(str).str.strip()\n",
        "df['author_name'] = df['author_name'].replace(['', 'nan', 'NA', '<NA>'], pd.NA)\n",
        "df_clean = df.dropna(subset=['author_name'])\n",
        "\n",
        "top_authors = df_clean['author_name'].value_counts().head(15)\n",
        "\n",
        "plt.figure(figsize=(8, 6))\n",
        "top_authors.plot(kind='bar')\n",
        "plt.title(\"Top 15 Authors in 1912\")\n",
        "plt.xlabel(\"Author\")\n",
        "plt.ylabel(\"Number of Publications\")\n",
        "plt.xticks(rotation=45, ha='right')\n",
        "plt.tight_layout()\n",
        "plt.show()"
      ],
      "id": "406cfb10",
      "execution_count": null,
      "outputs": []
    },
    {
      "cell_type": "markdown",
      "metadata": {},
      "source": [
        "</details> \n",
        "\n",
        "\n",
        "<details>\n",
        "<summary><strong>1913</strong></summary>"
      ],
      "id": "2bb7c0a1"
    },
    {
      "cell_type": "code",
      "metadata": {},
      "source": [
        "#| echo: false\n",
        "import pandas as pd\n",
        "import matplotlib.pyplot as plt\n",
        "\n",
        "df = pd.read_csv(\"df_1913.csv\")\n",
        "df['author_name'] = df['author_name'].astype(str).str.strip()\n",
        "df['author_name'] = df['author_name'].replace(['', 'nan', 'NA', '<NA>'], pd.NA)\n",
        "df_clean = df.dropna(subset=['author_name'])\n",
        "\n",
        "top_authors = df_clean['author_name'].value_counts().head(15)\n",
        "\n",
        "plt.figure(figsize=(8, 6))\n",
        "top_authors.plot(kind='bar')\n",
        "plt.title(\"Top 15 Authors in 1913\")\n",
        "plt.xlabel(\"Author\")\n",
        "plt.ylabel(\"Number of Publications\")\n",
        "plt.xticks(rotation=45, ha='right')\n",
        "plt.tight_layout()\n",
        "plt.show()"
      ],
      "id": "21cd47a3",
      "execution_count": null,
      "outputs": []
    },
    {
      "cell_type": "markdown",
      "metadata": {},
      "source": [
        "</details> \n",
        "\n",
        "\n",
        "<details>\n",
        "<summary><strong>1914</strong></summary>"
      ],
      "id": "8cbe2bdf"
    },
    {
      "cell_type": "code",
      "metadata": {},
      "source": [
        "#| echo: false\n",
        "import pandas as pd\n",
        "import matplotlib.pyplot as plt\n",
        "\n",
        "df = pd.read_csv(\"df_1914.csv\")\n",
        "df['author_name'] = df['author_name'].astype(str).str.strip()\n",
        "df['author_name'] = df['author_name'].replace(['', 'nan', 'NA', '<NA>'], pd.NA)\n",
        "df_clean = df.dropna(subset=['author_name'])\n",
        "\n",
        "top_authors = df_clean['author_name'].value_counts().head(15)\n",
        "\n",
        "plt.figure(figsize=(8, 6))\n",
        "top_authors.plot(kind='bar')\n",
        "plt.title(\"Top 15 Authors in 1914\")\n",
        "plt.xlabel(\"Author\")\n",
        "plt.ylabel(\"Number of Publications\")\n",
        "plt.xticks(rotation=45, ha='right')\n",
        "plt.tight_layout()\n",
        "plt.show()"
      ],
      "id": "a16b0df3",
      "execution_count": null,
      "outputs": []
    },
    {
      "cell_type": "markdown",
      "metadata": {},
      "source": [
        "</details> \n",
        "\n",
        "\n",
        "<details>\n",
        "<summary><strong>1915</strong></summary>"
      ],
      "id": "8c772eb9"
    },
    {
      "cell_type": "code",
      "metadata": {},
      "source": [
        "#| echo: false\n",
        "import pandas as pd\n",
        "import matplotlib.pyplot as plt\n",
        "\n",
        "df = pd.read_csv(\"df_1915.csv\")\n",
        "df['author_name'] = df['author_name'].astype(str).str.strip()\n",
        "df['author_name'] = df['author_name'].replace(['', 'nan', 'NA', '<NA>'], pd.NA)\n",
        "df_clean = df.dropna(subset=['author_name'])\n",
        "\n",
        "top_authors = df_clean['author_name'].value_counts().head(15)\n",
        "\n",
        "plt.figure(figsize=(8, 6))\n",
        "top_authors.plot(kind='bar')\n",
        "plt.title(\"Top 15 Authors in 1915\")\n",
        "plt.xlabel(\"Author\")\n",
        "plt.ylabel(\"Number of Publications\")\n",
        "plt.xticks(rotation=45, ha='right')\n",
        "plt.tight_layout()\n",
        "plt.show()"
      ],
      "id": "ab41241c",
      "execution_count": null,
      "outputs": []
    },
    {
      "cell_type": "markdown",
      "metadata": {},
      "source": [
        "</details> \n",
        "\n",
        "\n",
        "<details>\n",
        "<summary><strong>1916</strong></summary>"
      ],
      "id": "44b467aa"
    },
    {
      "cell_type": "code",
      "metadata": {},
      "source": [
        "#| echo: false\n",
        "import pandas as pd\n",
        "import matplotlib.pyplot as plt\n",
        "\n",
        "df = pd.read_csv(\"df_1916.csv\")\n",
        "df['author_name'] = df['author_name'].astype(str).str.strip()\n",
        "df['author_name'] = df['author_name'].replace(['', 'nan', 'NA', '<NA>'], pd.NA)\n",
        "df_clean = df.dropna(subset=['author_name'])\n",
        "\n",
        "top_authors = df_clean['author_name'].value_counts().head(15)\n",
        "\n",
        "plt.figure(figsize=(8, 6))\n",
        "top_authors.plot(kind='bar')\n",
        "plt.title(\"Top 15 Authors in 1916\")\n",
        "plt.xlabel(\"Author\")\n",
        "plt.ylabel(\"Number of Publications\")\n",
        "plt.xticks(rotation=45, ha='right')\n",
        "plt.tight_layout()\n",
        "plt.show()"
      ],
      "id": "1e20055f",
      "execution_count": null,
      "outputs": []
    },
    {
      "cell_type": "markdown",
      "metadata": {},
      "source": [
        "</details> \n",
        "\n",
        "\n",
        "<details>\n",
        "<summary><strong>1917</strong></summary>"
      ],
      "id": "6c77b3f8"
    },
    {
      "cell_type": "code",
      "metadata": {},
      "source": [
        "#| echo: false\n",
        "import pandas as pd\n",
        "import matplotlib.pyplot as plt\n",
        "\n",
        "df = pd.read_csv(\"df_1917.csv\")\n",
        "df['author_name'] = df['author_name'].astype(str).str.strip()\n",
        "df['author_name'] = df['author_name'].replace(['', 'nan', 'NA', '<NA>'], pd.NA)\n",
        "df_clean = df.dropna(subset=['author_name'])\n",
        "\n",
        "top_authors = df_clean['author_name'].value_counts().head(15)\n",
        "\n",
        "plt.figure(figsize=(8, 6))\n",
        "top_authors.plot(kind='bar')\n",
        "plt.title(\"Top 15 Authors in 1917\")\n",
        "plt.xlabel(\"Author\")\n",
        "plt.ylabel(\"Number of Publications\")\n",
        "plt.xticks(rotation=45, ha='right')\n",
        "plt.tight_layout()\n",
        "plt.show()"
      ],
      "id": "0019f186",
      "execution_count": null,
      "outputs": []
    },
    {
      "cell_type": "markdown",
      "metadata": {},
      "source": [
        "</details> \n",
        "\n",
        "\n",
        "<details>\n",
        "<summary><strong>1918</strong></summary>"
      ],
      "id": "e79ce539"
    },
    {
      "cell_type": "code",
      "metadata": {},
      "source": [
        "#| echo: false\n",
        "import pandas as pd\n",
        "import matplotlib.pyplot as plt\n",
        "\n",
        "df = pd.read_csv(\"df_1918.csv\")\n",
        "df['author_name'] = df['author_name'].astype(str).str.strip()\n",
        "df['author_name'] = df['author_name'].replace(['', 'nan', 'NA', '<NA>'], pd.NA)\n",
        "df_clean = df.dropna(subset=['author_name'])\n",
        "\n",
        "top_authors = df_clean['author_name'].value_counts().head(15)\n",
        "\n",
        "plt.figure(figsize=(8, 6))\n",
        "top_authors.plot(kind='bar')\n",
        "plt.title(\"Top 15 Authors in 1918\")\n",
        "plt.xlabel(\"Author\")\n",
        "plt.ylabel(\"Number of Publications\")\n",
        "plt.xticks(rotation=45, ha='right')\n",
        "plt.tight_layout()\n",
        "plt.show()"
      ],
      "id": "09f06c25",
      "execution_count": null,
      "outputs": []
    },
    {
      "cell_type": "markdown",
      "metadata": {},
      "source": [
        "</details> \n",
        "\n",
        "\n",
        "<details>\n",
        "<summary><strong>1919</strong></summary>"
      ],
      "id": "2df94efd"
    },
    {
      "cell_type": "code",
      "metadata": {},
      "source": [
        "#| echo: false\n",
        "import pandas as pd\n",
        "import matplotlib.pyplot as plt\n",
        "\n",
        "df = pd.read_csv(\"df_1919.csv\")\n",
        "df['author_name'] = df['author_name'].astype(str).str.strip()\n",
        "df['author_name'] = df['author_name'].replace(['', 'nan', 'NA', '<NA>'], pd.NA)\n",
        "df_clean = df.dropna(subset=['author_name'])\n",
        "\n",
        "top_authors = df_clean['author_name'].value_counts().head(15)\n",
        "\n",
        "plt.figure(figsize=(8, 6))\n",
        "top_authors.plot(kind='bar')\n",
        "plt.title(\"Top 15 Authors in 1919\")\n",
        "plt.xlabel(\"Author\")\n",
        "plt.ylabel(\"Number of Publications\")\n",
        "plt.xticks(rotation=45, ha='right')\n",
        "plt.tight_layout()\n",
        "plt.show()"
      ],
      "id": "252d66f9",
      "execution_count": null,
      "outputs": []
    },
    {
      "cell_type": "markdown",
      "metadata": {},
      "source": [
        "</details> \n",
        "\n",
        "\n",
        "<details>\n",
        "<summary><strong>1920</strong></summary>"
      ],
      "id": "855d6825"
    },
    {
      "cell_type": "code",
      "metadata": {},
      "source": [
        "#| echo: false\n",
        "import pandas as pd\n",
        "import matplotlib.pyplot as plt\n",
        "\n",
        "df = pd.read_csv(\"df_1920.csv\")\n",
        "df['author_name'] = df['author_name'].astype(str).str.strip()\n",
        "df['author_name'] = df['author_name'].replace(['', 'nan', 'NA', '<NA>'], pd.NA)\n",
        "df_clean = df.dropna(subset=['author_name'])\n",
        "\n",
        "top_authors = df_clean['author_name'].value_counts().head(15)\n",
        "\n",
        "plt.figure(figsize=(8, 6))\n",
        "top_authors.plot(kind='bar')\n",
        "plt.title(\"Top 15 Authors in 1920\")\n",
        "plt.xlabel(\"Author\")\n",
        "plt.ylabel(\"Number of Publications\")\n",
        "plt.xticks(rotation=45, ha='right')\n",
        "plt.tight_layout()\n",
        "plt.show()"
      ],
      "id": "74bb2bde",
      "execution_count": null,
      "outputs": []
    },
    {
      "cell_type": "markdown",
      "metadata": {},
      "source": [
        "</details> \n",
        "\n",
        "\n",
        "<details>\n",
        "<summary><strong>1921</strong></summary>"
      ],
      "id": "0634dd1b"
    },
    {
      "cell_type": "code",
      "metadata": {},
      "source": [
        "#| echo: false\n",
        "import pandas as pd\n",
        "import matplotlib.pyplot as plt\n",
        "\n",
        "df = pd.read_csv(\"df_1921.csv\")\n",
        "df['author_name'] = df['author_name'].astype(str).str.strip()\n",
        "df['author_name'] = df['author_name'].replace(['', 'nan', 'NA', '<NA>'], pd.NA)\n",
        "df_clean = df.dropna(subset=['author_name'])\n",
        "\n",
        "top_authors = df_clean['author_name'].value_counts().head(15)\n",
        "\n",
        "plt.figure(figsize=(8, 6))\n",
        "top_authors.plot(kind='bar')\n",
        "plt.title(\"Top 15 Authors in 1921\")\n",
        "plt.xlabel(\"Author\")\n",
        "plt.ylabel(\"Number of Publications\")\n",
        "plt.xticks(rotation=45, ha='right')\n",
        "plt.tight_layout()\n",
        "plt.show()"
      ],
      "id": "4e095d24",
      "execution_count": null,
      "outputs": []
    },
    {
      "cell_type": "markdown",
      "metadata": {},
      "source": [
        "</details> \n",
        "\n",
        "\n",
        "<details>\n",
        "<summary><strong>1922</strong></summary>"
      ],
      "id": "2c4b83d4"
    },
    {
      "cell_type": "code",
      "metadata": {},
      "source": [
        "#| echo: false\n",
        "import pandas as pd\n",
        "import matplotlib.pyplot as plt\n",
        "\n",
        "df = pd.read_csv(\"df_1922.csv\")\n",
        "df['author_name'] = df['author_name'].astype(str).str.strip()\n",
        "df['author_name'] = df['author_name'].replace(['', 'nan', 'NA', '<NA>'], pd.NA)\n",
        "df_clean = df.dropna(subset=['author_name'])\n",
        "\n",
        "top_authors = df_clean['author_name'].value_counts().head(15)\n",
        "\n",
        "plt.figure(figsize=(8, 6))\n",
        "top_authors.plot(kind='bar')\n",
        "plt.title(\"Top 15 Authors in 1922\")\n",
        "plt.xlabel(\"Author\")\n",
        "plt.ylabel(\"Number of Publications\")\n",
        "plt.xticks(rotation=45, ha='right')\n",
        "plt.tight_layout()\n",
        "plt.show()"
      ],
      "id": "1983392b",
      "execution_count": null,
      "outputs": []
    },
    {
      "cell_type": "markdown",
      "metadata": {},
      "source": [
        "</details> "
      ],
      "id": "c1f4a763"
    }
  ],
  "metadata": {
    "kernelspec": {
      "name": "python3",
      "language": "python",
      "display_name": "Python 3 (ipykernel)",
      "path": "/Users/tanishadeka/Downloads/quarto_website_test/.venv/share/jupyter/kernels/python3"
    }
  },
  "nbformat": 4,
  "nbformat_minor": 5
}