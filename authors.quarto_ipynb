{
  "cells": [
    {
      "cell_type": "markdown",
      "metadata": {},
      "source": [
        "---\n",
        "format: html\n",
        "---\n",
        "\n",
        "<h1 class=\"page-top\">Top Authors by Year</h1>\n",
        "\n",
        "<div style=\"margin-top: 40px;\"></div>\n",
        "\n",
        "Select a year to see the top 15 authors for that year!\n",
        "\n",
        "<div style=\"margin-top: 40px;\"></div>\n",
        "\n",
        "<details>\n",
        "<summary><strong>1912</strong></summary>"
      ],
      "id": "09da3120"
    },
    {
      "cell_type": "code",
      "metadata": {},
      "source": [
        "#| echo: false\n",
        "import pandas as pd\n",
        "import matplotlib.pyplot as plt\n",
        "\n",
        "df = pd.read_csv(\"df_1912.csv\")\n",
        "df['author_name'] = df['author_name'].astype(str).str.strip()\n",
        "df['author_name'] = df['author_name'].replace(['', 'nan', 'NA', '<NA>'], pd.NA)\n",
        "df_clean = df.dropna(subset=['author_name'])\n",
        "\n",
        "top_authors = df_clean['author_name'].value_counts().head(15)\n",
        "\n",
        "plt.figure(figsize=(8, 6))\n",
        "top_authors.plot(kind='bar')\n",
        "plt.title(\"Top 15 Authors in 1912\")\n",
        "plt.xlabel(\"Author\")\n",
        "plt.ylabel(\"Number of Publications\")\n",
        "plt.xticks(rotation=45, ha='right')\n",
        "plt.tight_layout()\n",
        "plt.show()"
      ],
      "id": "da4f9adf",
      "execution_count": null,
      "outputs": []
    },
    {
      "cell_type": "markdown",
      "metadata": {},
      "source": [
        "</details> \n",
        "\n",
        "\n",
        "<details>\n",
        "<summary><strong>1913</strong></summary>"
      ],
      "id": "03b500ef"
    },
    {
      "cell_type": "code",
      "metadata": {},
      "source": [
        "#| echo: false\n",
        "import pandas as pd\n",
        "import matplotlib.pyplot as plt\n",
        "\n",
        "df = pd.read_csv(\"df_1913.csv\")\n",
        "df['author_name'] = df['author_name'].astype(str).str.strip()\n",
        "df['author_name'] = df['author_name'].replace(['', 'nan', 'NA', '<NA>'], pd.NA)\n",
        "df_clean = df.dropna(subset=['author_name'])\n",
        "\n",
        "top_authors = df_clean['author_name'].value_counts().head(15)\n",
        "\n",
        "plt.figure(figsize=(8, 6))\n",
        "top_authors.plot(kind='bar')\n",
        "plt.title(\"Top 15 Authors in 1913\")\n",
        "plt.xlabel(\"Author\")\n",
        "plt.ylabel(\"Number of Publications\")\n",
        "plt.xticks(rotation=45, ha='right')\n",
        "plt.tight_layout()\n",
        "plt.show()"
      ],
      "id": "d8157e1f",
      "execution_count": null,
      "outputs": []
    },
    {
      "cell_type": "markdown",
      "metadata": {},
      "source": [
        "</details> \n",
        "\n",
        "\n",
        "<details>\n",
        "<summary><strong>1914</strong></summary>"
      ],
      "id": "ad4290d6"
    },
    {
      "cell_type": "code",
      "metadata": {},
      "source": [
        "#| echo: false\n",
        "import pandas as pd\n",
        "import matplotlib.pyplot as plt\n",
        "\n",
        "df = pd.read_csv(\"df_1914.csv\")\n",
        "df['author_name'] = df['author_name'].astype(str).str.strip()\n",
        "df['author_name'] = df['author_name'].replace(['', 'nan', 'NA', '<NA>'], pd.NA)\n",
        "df_clean = df.dropna(subset=['author_name'])\n",
        "\n",
        "top_authors = df_clean['author_name'].value_counts().head(15)\n",
        "\n",
        "plt.figure(figsize=(8, 6))\n",
        "top_authors.plot(kind='bar')\n",
        "plt.title(\"Top 15 Authors in 1914\")\n",
        "plt.xlabel(\"Author\")\n",
        "plt.ylabel(\"Number of Publications\")\n",
        "plt.xticks(rotation=45, ha='right')\n",
        "plt.tight_layout()\n",
        "plt.show()"
      ],
      "id": "2eb31682",
      "execution_count": null,
      "outputs": []
    },
    {
      "cell_type": "markdown",
      "metadata": {},
      "source": [
        "</details> \n",
        "\n",
        "\n",
        "<details>\n",
        "<summary><strong>1915</strong></summary>"
      ],
      "id": "9cb1c943"
    },
    {
      "cell_type": "code",
      "metadata": {},
      "source": [
        "#| echo: false\n",
        "import pandas as pd\n",
        "import matplotlib.pyplot as plt\n",
        "\n",
        "df = pd.read_csv(\"df_1915.csv\")\n",
        "df['author_name'] = df['author_name'].astype(str).str.strip()\n",
        "df['author_name'] = df['author_name'].replace(['', 'nan', 'NA', '<NA>'], pd.NA)\n",
        "df_clean = df.dropna(subset=['author_name'])\n",
        "\n",
        "top_authors = df_clean['author_name'].value_counts().head(15)\n",
        "\n",
        "plt.figure(figsize=(8, 6))\n",
        "top_authors.plot(kind='bar')\n",
        "plt.title(\"Top 15 Authors in 1915\")\n",
        "plt.xlabel(\"Author\")\n",
        "plt.ylabel(\"Number of Publications\")\n",
        "plt.xticks(rotation=45, ha='right')\n",
        "plt.tight_layout()\n",
        "plt.show()"
      ],
      "id": "9d9bfd33",
      "execution_count": null,
      "outputs": []
    },
    {
      "cell_type": "markdown",
      "metadata": {},
      "source": [
        "</details> \n",
        "\n",
        "\n",
        "<details>\n",
        "<summary><strong>1916</strong></summary>"
      ],
      "id": "deab404f"
    },
    {
      "cell_type": "code",
      "metadata": {},
      "source": [
        "#| echo: false\n",
        "import pandas as pd\n",
        "import matplotlib.pyplot as plt\n",
        "\n",
        "df = pd.read_csv(\"df_1916.csv\")\n",
        "df['author_name'] = df['author_name'].astype(str).str.strip()\n",
        "df['author_name'] = df['author_name'].replace(['', 'nan', 'NA', '<NA>'], pd.NA)\n",
        "df_clean = df.dropna(subset=['author_name'])\n",
        "\n",
        "top_authors = df_clean['author_name'].value_counts().head(15)\n",
        "\n",
        "plt.figure(figsize=(8, 6))\n",
        "top_authors.plot(kind='bar')\n",
        "plt.title(\"Top 15 Authors in 1916\")\n",
        "plt.xlabel(\"Author\")\n",
        "plt.ylabel(\"Number of Publications\")\n",
        "plt.xticks(rotation=45, ha='right')\n",
        "plt.tight_layout()\n",
        "plt.show()"
      ],
      "id": "96c70a3e",
      "execution_count": null,
      "outputs": []
    },
    {
      "cell_type": "markdown",
      "metadata": {},
      "source": [
        "</details> \n",
        "\n",
        "\n",
        "<details>\n",
        "<summary><strong>1917</strong></summary>"
      ],
      "id": "ed95549c"
    },
    {
      "cell_type": "code",
      "metadata": {},
      "source": [
        "#| echo: false\n",
        "import pandas as pd\n",
        "import matplotlib.pyplot as plt\n",
        "\n",
        "df = pd.read_csv(\"df_1917.csv\")\n",
        "df['author_name'] = df['author_name'].astype(str).str.strip()\n",
        "df['author_name'] = df['author_name'].replace(['', 'nan', 'NA', '<NA>'], pd.NA)\n",
        "df_clean = df.dropna(subset=['author_name'])\n",
        "\n",
        "top_authors = df_clean['author_name'].value_counts().head(15)\n",
        "\n",
        "plt.figure(figsize=(8, 6))\n",
        "top_authors.plot(kind='bar')\n",
        "plt.title(\"Top 15 Authors in 1917\")\n",
        "plt.xlabel(\"Author\")\n",
        "plt.ylabel(\"Number of Publications\")\n",
        "plt.xticks(rotation=45, ha='right')\n",
        "plt.tight_layout()\n",
        "plt.show()"
      ],
      "id": "09fc8f18",
      "execution_count": null,
      "outputs": []
    },
    {
      "cell_type": "markdown",
      "metadata": {},
      "source": [
        "</details> \n",
        "\n",
        "\n",
        "<details>\n",
        "<summary><strong>1918</strong></summary>"
      ],
      "id": "92dfbcbc"
    },
    {
      "cell_type": "code",
      "metadata": {},
      "source": [
        "#| echo: false\n",
        "import pandas as pd\n",
        "import matplotlib.pyplot as plt\n",
        "\n",
        "df = pd.read_csv(\"df_1918.csv\")\n",
        "df['author_name'] = df['author_name'].astype(str).str.strip()\n",
        "df['author_name'] = df['author_name'].replace(['', 'nan', 'NA', '<NA>'], pd.NA)\n",
        "df_clean = df.dropna(subset=['author_name'])\n",
        "\n",
        "top_authors = df_clean['author_name'].value_counts().head(15)\n",
        "\n",
        "plt.figure(figsize=(8, 6))\n",
        "top_authors.plot(kind='bar')\n",
        "plt.title(\"Top 15 Authors in 1918\")\n",
        "plt.xlabel(\"Author\")\n",
        "plt.ylabel(\"Number of Publications\")\n",
        "plt.xticks(rotation=45, ha='right')\n",
        "plt.tight_layout()\n",
        "plt.show()"
      ],
      "id": "f06e2c8e",
      "execution_count": null,
      "outputs": []
    },
    {
      "cell_type": "markdown",
      "metadata": {},
      "source": [
        "</details> \n",
        "\n",
        "\n",
        "<details>\n",
        "<summary><strong>1919</strong></summary>"
      ],
      "id": "b1bafb47"
    },
    {
      "cell_type": "code",
      "metadata": {},
      "source": [
        "#| echo: false\n",
        "import pandas as pd\n",
        "import matplotlib.pyplot as plt\n",
        "\n",
        "df = pd.read_csv(\"df_1919.csv\")\n",
        "df['author_name'] = df['author_name'].astype(str).str.strip()\n",
        "df['author_name'] = df['author_name'].replace(['', 'nan', 'NA', '<NA>'], pd.NA)\n",
        "df_clean = df.dropna(subset=['author_name'])\n",
        "\n",
        "top_authors = df_clean['author_name'].value_counts().head(15)\n",
        "\n",
        "plt.figure(figsize=(8, 6))\n",
        "top_authors.plot(kind='bar')\n",
        "plt.title(\"Top 15 Authors in 1919\")\n",
        "plt.xlabel(\"Author\")\n",
        "plt.ylabel(\"Number of Publications\")\n",
        "plt.xticks(rotation=45, ha='right')\n",
        "plt.tight_layout()\n",
        "plt.show()"
      ],
      "id": "fe35c6a1",
      "execution_count": null,
      "outputs": []
    },
    {
      "cell_type": "markdown",
      "metadata": {},
      "source": [
        "</details> \n",
        "\n",
        "\n",
        "<details>\n",
        "<summary><strong>1920</strong></summary>"
      ],
      "id": "cf231fcd"
    },
    {
      "cell_type": "code",
      "metadata": {},
      "source": [
        "#| echo: false\n",
        "import pandas as pd\n",
        "import matplotlib.pyplot as plt\n",
        "\n",
        "df = pd.read_csv(\"df_1920.csv\")\n",
        "df['author_name'] = df['author_name'].astype(str).str.strip()\n",
        "df['author_name'] = df['author_name'].replace(['', 'nan', 'NA', '<NA>'], pd.NA)\n",
        "df_clean = df.dropna(subset=['author_name'])\n",
        "\n",
        "top_authors = df_clean['author_name'].value_counts().head(15)\n",
        "\n",
        "plt.figure(figsize=(8, 6))\n",
        "top_authors.plot(kind='bar')\n",
        "plt.title(\"Top 15 Authors in 1920\")\n",
        "plt.xlabel(\"Author\")\n",
        "plt.ylabel(\"Number of Publications\")\n",
        "plt.xticks(rotation=45, ha='right')\n",
        "plt.tight_layout()\n",
        "plt.show()"
      ],
      "id": "7ffda27c",
      "execution_count": null,
      "outputs": []
    },
    {
      "cell_type": "markdown",
      "metadata": {},
      "source": [
        "</details> \n",
        "\n",
        "\n",
        "<details>\n",
        "<summary><strong>1921</strong></summary>"
      ],
      "id": "2c06fe9f"
    },
    {
      "cell_type": "code",
      "metadata": {},
      "source": [
        "#| echo: false\n",
        "import pandas as pd\n",
        "import matplotlib.pyplot as plt\n",
        "\n",
        "df = pd.read_csv(\"df_1921.csv\")\n",
        "df['author_name'] = df['author_name'].astype(str).str.strip()\n",
        "df['author_name'] = df['author_name'].replace(['', 'nan', 'NA', '<NA>'], pd.NA)\n",
        "df_clean = df.dropna(subset=['author_name'])\n",
        "\n",
        "top_authors = df_clean['author_name'].value_counts().head(15)\n",
        "\n",
        "plt.figure(figsize=(8, 6))\n",
        "top_authors.plot(kind='bar')\n",
        "plt.title(\"Top 15 Authors in 1921\")\n",
        "plt.xlabel(\"Author\")\n",
        "plt.ylabel(\"Number of Publications\")\n",
        "plt.xticks(rotation=45, ha='right')\n",
        "plt.tight_layout()\n",
        "plt.show()"
      ],
      "id": "493aa14e",
      "execution_count": null,
      "outputs": []
    },
    {
      "cell_type": "markdown",
      "metadata": {},
      "source": [
        "</details> \n",
        "\n",
        "\n",
        "<details>\n",
        "<summary><strong>1922</strong></summary>"
      ],
      "id": "14781c09"
    },
    {
      "cell_type": "code",
      "metadata": {},
      "source": [
        "#| echo: false\n",
        "import pandas as pd\n",
        "import matplotlib.pyplot as plt\n",
        "\n",
        "df = pd.read_csv(\"df_1922.csv\")\n",
        "df['author_name'] = df['author_name'].astype(str).str.strip()\n",
        "df['author_name'] = df['author_name'].replace(['', 'nan', 'NA', '<NA>'], pd.NA)\n",
        "df_clean = df.dropna(subset=['author_name'])\n",
        "\n",
        "top_authors = df_clean['author_name'].value_counts().head(15)\n",
        "\n",
        "plt.figure(figsize=(8, 6))\n",
        "top_authors.plot(kind='bar')\n",
        "plt.title(\"Top 15 Authors in 1922\")\n",
        "plt.xlabel(\"Author\")\n",
        "plt.ylabel(\"Number of Publications\")\n",
        "plt.xticks(rotation=45, ha='right')\n",
        "plt.tight_layout()\n",
        "plt.show()"
      ],
      "id": "af7cc991",
      "execution_count": null,
      "outputs": []
    },
    {
      "cell_type": "markdown",
      "metadata": {},
      "source": [
        "</details> "
      ],
      "id": "6fac0df9"
    }
  ],
  "metadata": {
    "kernelspec": {
      "name": "english-catalogue-env",
      "language": "python",
      "display_name": "english-catalogue-env",
      "path": "/Users/tanishadeka/Library/Jupyter/kernels/english-catalogue-env"
    }
  },
  "nbformat": 4,
  "nbformat_minor": 5
}