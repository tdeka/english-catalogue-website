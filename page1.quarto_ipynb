{
  "cells": [
    {
      "cell_type": "markdown",
      "metadata": {},
      "source": [
        "---\n",
        "title: \"Publications by Format & Year\"\n",
        "format: html\n",
        "jupyter: python3\n",
        "execute:\n",
        "  echo: false\n",
        "  warning: false\n",
        "  message: false\n",
        "---\n",
        "\n",
        "import pandas as pd\n",
        "import matplotlib.pyplot as plt\n",
        "import panel as pn\n",
        "pn.extension()\n",
        "\n",
        "# Load data\n",
        "df = pd.read_csv(\"top_format.csv\")\n",
        "\n",
        "# Pivot the data\n",
        "pivot_df = (\n",
        "    df.pivot_table(\n",
        "        index=\"year\",\n",
        "        columns=\"format\",\n",
        "        values=\"num_entry\",\n",
        "        aggfunc=\"sum\",\n",
        "        fill_value=0,\n",
        "    )\n",
        "    .sort_index()\n",
        ")\n",
        "\n",
        "format_options = [\"All formats\"] + sorted(pivot_df.columns.tolist())\n",
        "selected_format = pn.widgets.Select(name=\"Choose a format\", options=format_options, value=\"All formats\")"
      ],
      "id": "b9c9d17c"
    }
  ],
  "metadata": {
    "kernelspec": {
      "name": "python3",
      "language": "python",
      "display_name": "Python 3 (ipykernel)",
      "path": "/Users/tanishadeka/Library/Python/3.12/share/jupyter/kernels/python3"
    }
  },
  "nbformat": 4,
  "nbformat_minor": 5
}